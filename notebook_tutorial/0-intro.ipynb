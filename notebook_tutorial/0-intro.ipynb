{
 "cells": [
  {
   "attachments": {},
   "cell_type": "markdown",
   "metadata": {},
   "source": [
    "# Fasting Pandas - A guide into optimizing your analytical processing \n",
    "\n",
    "\n",
    "Welcome to \"Fasting Pandas,\" a tutorial designed to help you optimize your analytical processing with pandas dataframes. Data scientists and analysts often work with large datasets, which can be time-consuming and resource-intensive to manipulate. In this tutorial, we'll explore different techniques for transforming dataframes efficiently, starting with conditionals and moving on to parsing and reading/writing files.\n",
    "\n",
    "### Table of Contents\n",
    "\n",
    "* [Lesson 1 - Conditionals](1-conditionals.ipynb)\n",
    "* [Lesson 2 - Parsing](2-parsing.ipynb)\n",
    "* [Lesson 3 - Read and Write](3-read-and-write.ipynb)\n",
    "\n",
    "In Lesson 1, we'll cover conditionals, which allow us to filter data based on certain conditions. We'll start with basic conditional statements and move on to more advanced techniques, such as using for loops, apply with lambda functions and boolean indexing. We'll also compare the efficiency of these techniques and see how they can impact machine resources.\n",
    "\n",
    "In Lesson 2, we'll cover parsing, which allows us to convert data from one format to another. We will look at different data types and how they have a direct impact on memory performance. We will also look how they behave with CSV files.\n",
    "\n",
    "In Lesson 3, we'll cover reading and writing files, which is an essential skill for any data analyst. We'll explore different file formats and learn how to read and write them with pandas. We'll also cover best practices for handling large datasets and how to optimize your code for performance.\n",
    "\n",
    "Throughout this tutorial, I will provide exercises and real-world examples to help you apply these techniques to your own data analysis projects. By the end of this tutorial, you'll have a solid understanding of how to manipulate pandas dataframes effectively, and how to measure the impact of your techniques on machine resources. So let's get started and optimize our analytical processing with \"Fasting Pandas\"!"
   ]
  }
 ],
 "metadata": {
  "language_info": {
   "name": "python"
  },
  "orig_nbformat": 4
 },
 "nbformat": 4,
 "nbformat_minor": 2
}
