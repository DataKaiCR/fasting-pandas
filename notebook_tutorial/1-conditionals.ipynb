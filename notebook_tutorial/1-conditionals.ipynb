{
 "cells": [
  {
   "attachments": {},
   "cell_type": "markdown",
   "metadata": {},
   "source": [
    "# Fasting Pandas - A guide into optimizing your analytical processing \n",
    "\n",
    "## Lesson 1 - Conditionals\n",
    "\n",
    "---\n",
    "\n",
    "Welcome to Lesson 1 of \"Fasting Pandas,\" where we'll explore how to manipulate pandas dataframes effectively using conditionals. Conditionals allow us to filter data based on certain conditions or business logic, which is a common task in data analysis. We will focus on optimizing the analytical processing of pandas dataframes. \n",
    "\n",
    "In this tutorial, we will highlight different techniques, including for loops, the apply method, and vectorization, to demonstrate the impact of each technique on the computational efficiency of the resulting code.\n",
    "\n",
    "We should understand that in some ocassions suboptimal code will not cost us only time, but money aswell.\n",
    "\n",
    "Here we go."
   ]
  },
  {
   "cell_type": "code",
   "execution_count": 1,
   "metadata": {},
   "outputs": [],
   "source": [
    "import config\n",
    "import pandas as pd\n",
    "import numpy as np\n",
    "import fasting_pandas as fp\n",
    "from statistics import mean\n",
    "from matplotlib import pyplot\n",
    "from IPython.display import Markdown as md"
   ]
  },
  {
   "attachments": {},
   "cell_type": "markdown",
   "metadata": {},
   "source": [
    "### About the Datasets\n",
    "\n",
    "In order to avoid uploading any files to work with, we will be generating the datasets ourselves. For this tutorial I created two datasets, which can be accessed in the **datasets.py** module. The dataframes default to a size of 10,000 rows, which can be changed.\n",
    "\n",
    "In this lesson we will work with a collection of test scores for a group of students. We have information on their ages, the amount of time they spent studying, and their scores on three different tests. Additionally, we have information on their food preferences - what they like to eat when they're feeling happy and what they prefer to eat when they're feeling sad.\n",
    "\n",
    "Lets begin by generating the testing score dataframe."
   ]
  },
  {
   "cell_type": "code",
   "execution_count": 2,
   "metadata": {},
   "outputs": [
    {
     "data": {
      "text/html": [
       "<div>\n",
       "<style scoped>\n",
       "    .dataframe tbody tr th:only-of-type {\n",
       "        vertical-align: middle;\n",
       "    }\n",
       "\n",
       "    .dataframe tbody tr th {\n",
       "        vertical-align: top;\n",
       "    }\n",
       "\n",
       "    .dataframe thead th {\n",
       "        text-align: right;\n",
       "    }\n",
       "</style>\n",
       "<table border=\"1\" class=\"dataframe\">\n",
       "  <thead>\n",
       "    <tr style=\"text-align: right;\">\n",
       "      <th></th>\n",
       "      <th>age</th>\n",
       "      <th>study_time</th>\n",
       "      <th>test_1_score</th>\n",
       "      <th>test_2_score</th>\n",
       "      <th>test_3_score</th>\n",
       "      <th>happy_food</th>\n",
       "      <th>sad_food</th>\n",
       "    </tr>\n",
       "  </thead>\n",
       "  <tbody>\n",
       "    <tr>\n",
       "      <th>0</th>\n",
       "      <td>18</td>\n",
       "      <td>4</td>\n",
       "      <td>0.174730</td>\n",
       "      <td>0.181848</td>\n",
       "      <td>0.041675</td>\n",
       "      <td>pizza</td>\n",
       "      <td>beans</td>\n",
       "    </tr>\n",
       "    <tr>\n",
       "      <th>1</th>\n",
       "      <td>16</td>\n",
       "      <td>3</td>\n",
       "      <td>0.426864</td>\n",
       "      <td>0.469134</td>\n",
       "      <td>0.917042</td>\n",
       "      <td>hamburguer</td>\n",
       "      <td>beef-liver</td>\n",
       "    </tr>\n",
       "    <tr>\n",
       "      <th>2</th>\n",
       "      <td>16</td>\n",
       "      <td>6</td>\n",
       "      <td>0.987130</td>\n",
       "      <td>0.637288</td>\n",
       "      <td>0.104427</td>\n",
       "      <td>nachos</td>\n",
       "      <td>broccoli</td>\n",
       "    </tr>\n",
       "    <tr>\n",
       "      <th>3</th>\n",
       "      <td>12</td>\n",
       "      <td>3</td>\n",
       "      <td>0.419115</td>\n",
       "      <td>0.271577</td>\n",
       "      <td>0.282120</td>\n",
       "      <td>fried-chicken</td>\n",
       "      <td>broccoli</td>\n",
       "    </tr>\n",
       "    <tr>\n",
       "      <th>4</th>\n",
       "      <td>19</td>\n",
       "      <td>7</td>\n",
       "      <td>0.988256</td>\n",
       "      <td>0.330795</td>\n",
       "      <td>0.047736</td>\n",
       "      <td>nachos</td>\n",
       "      <td>tomatoes</td>\n",
       "    </tr>\n",
       "  </tbody>\n",
       "</table>\n",
       "</div>"
      ],
      "text/plain": [
       "   age  study_time  test_1_score  test_2_score  test_3_score     happy_food  \\\n",
       "0   18           4      0.174730      0.181848      0.041675          pizza   \n",
       "1   16           3      0.426864      0.469134      0.917042     hamburguer   \n",
       "2   16           6      0.987130      0.637288      0.104427         nachos   \n",
       "3   12           3      0.419115      0.271577      0.282120  fried-chicken   \n",
       "4   19           7      0.988256      0.330795      0.047736         nachos   \n",
       "\n",
       "     sad_food  \n",
       "0       beans  \n",
       "1  beef-liver  \n",
       "2    broccoli  \n",
       "3    broccoli  \n",
       "4    tomatoes  "
      ]
     },
     "execution_count": 2,
     "metadata": {},
     "output_type": "execute_result"
    }
   ],
   "source": [
    "df = fp.generate_testscore_df()\n",
    "df.head()"
   ]
  },
  {
   "attachments": {},
   "cell_type": "markdown",
   "metadata": {},
   "source": [
    "### The Problem\n",
    "\n",
    "For our first example we will work with data from a group of high school students between ages of 12 and 19 and their average daily time spent studying for their tests. We have the scores for 3 tests, and want to reward them with happy food if they did well.\n",
    "\n",
    "I'll describe the dataset more throughly.\n",
    "\n",
    "- Age: This column represents the age of each student. The values range from 12 to 19, inclusive.\n",
    "- Study Time: This column represents the amount of time each student spent studying for the test, measured in hours. The values range from 0 to 10, inclusive.\n",
    "- Test Scores: There are three columns in the dataset that represent the scores each student received on different tests:\n",
    "    - Test 1 Score: This column represents the score each student received on the first test. The values range from 0 to 1, inclusive.\n",
    "    - Test 2 Score: This column represents the score each student received on the second test. The values range from 0 to 1, inclusive.\n",
    "    - Test 3 Score: This column represents the score each student received on the third test. The values range from 0 to 1, inclusive.\n",
    "- Happy Food: This column represents the type of food each student prefers to eat when they're feeling happy. The possible categories are:\n",
    "    + pizza\n",
    "    + hamburguer\n",
    "    + fried-chicken\n",
    "    + nachos\n",
    "    + grilled-meat\n",
    "- Sad Food: This column represents the type of food each student prefers to eat when they're feeling sad. The possible categories are:\n",
    "    + beef-liver\n",
    "    + tomatoes\n",
    "    + broccoli\n",
    "    + soup\n",
    "    + beans\n",
    "\n",
    "Obviously, this is random data so don't expect too much coherence. For our purposes we don't care about this.\n",
    "\n",
    "Let's start simple.\n",
    "\n",
    "#### Reward calculation:\n",
    "- If they studied for more than 3 hours a day and scored higher than 90 on test 1 they get happy food\n",
    "- If they failed test 1 they get sad food\n",
    "- If they passsed the first test (higher or equal to 65) and are in the age group between 12 and 13 they get happy food\n",
    "- Everyone else gets sad food :(\n",
    "\n",
    "So we want to define a function that uses conditional logic in order to determine who gets a positive or negative reward. One of the usual approaches is to define a function that takes care of that logic, and then check if the condition is met for every row.\n"
   ]
  },
  {
   "cell_type": "code",
   "execution_count": 3,
   "metadata": {},
   "outputs": [],
   "source": [
    "def calculate_my_reward(row):\n",
    "    if (row['study_time'] >= 4) & (row['test_1_score'] >= 0.9):\n",
    "        return row['happy_food']\n",
    "    elif (row['test_1_score'] >= 0.65) & (row['age'] <= 13):\n",
    "        return row['happy_food']\n",
    "    return row['sad_food']"
   ]
  },
  {
   "attachments": {},
   "cell_type": "markdown",
   "metadata": {},
   "source": [
    "## For-Loops\n",
    "\n",
    "When it comes to iterating over rows in a Pandas DataFrame, for loops can be incredibly slow and inefficient, especially when working with larger datasets.\n",
    "\n",
    "This is because a for loop iterates through each row of the DataFrame one at a time, performing the same operation on each row. This can be incredibly time-consuming, especially for larger datasets with hundreds of thousands or even millions of rows.\n",
    "\n",
    "Another reason for loops can be slow is due to the Global Interpreter Lock (GIL) in Python. The GIL prevents multiple threads from executing Python code simultaneously, which means that the performance benefits of using multiple CPU cores are limited.\n",
    "\n",
    "We can measure our results in several ways. In this first lesson we will use the `%timeit` magic method and save the results in a function that we can later access to calculate the mean() and store the results for later usage. "
   ]
  },
  {
   "cell_type": "code",
   "execution_count": 4,
   "metadata": {},
   "outputs": [
    {
     "name": "stdout",
     "output_type": "stream",
     "text": [
      "1.16 s ± 30.3 ms per loop (mean ± std. dev. of 7 runs, 1 loop each)\n"
     ]
    }
   ],
   "source": [
    "loop_time = %timeit -o for index, row in df.iterrows(): \\\n",
    "        df.loc[index, 'my_reward'] = calculate_my_reward(row)"
   ]
  },
  {
   "attachments": {},
   "cell_type": "markdown",
   "metadata": {},
   "source": [
    "So more than a second to calculate two main conditions and a default for 10,000 rows. \n",
    "\n",
    "Moving on."
   ]
  },
  {
   "attachments": {},
   "cell_type": "markdown",
   "metadata": {},
   "source": [
    "## Apply\n",
    "\n",
    "If you have used pandas for more than a day, you have probably learned about the `apply` method. We can use this method to apply a custom function to each row of a DataFrame, which is often more efficient than using a for loop\n",
    "\n",
    "The syntax is usually as follows:\n",
    "\n",
    "\n",
    " > df.apply(func, axis=0, raw=False, result_type=None, args=(), **kwds)\n",
    "\n",
    "where ``func`` is the function to be applied, ``axis`` specifies the axis along which the function is applied (0 for column-wise, 1 for row-wise), ``raw`` specifies whether the function should receive the values or the indices of the DataFrame, and ``result_type`` specifies the expected return type of the function.\n",
    "\n",
    "However, the ``apply`` method still has some performance overhead, as it has to create a new Series object for each row and concatenate them back into a DataFrame. Therefore, ``apply`` is not always the most efficient method for data manipulation, but it's still way faster than for loops.\n",
    "\n",
    "Let's see how fast."
   ]
  },
  {
   "cell_type": "code",
   "execution_count": 5,
   "metadata": {},
   "outputs": [
    {
     "name": "stdout",
     "output_type": "stream",
     "text": [
      "92.2 ms ± 1.74 ms per loop (mean ± std. dev. of 7 runs, 10 loops each)\n"
     ]
    }
   ],
   "source": [
    "apply_time = %timeit -o df['my_reward'] = df.apply(calculate_my_reward, axis=1)"
   ]
  },
  {
   "attachments": {},
   "cell_type": "markdown",
   "metadata": {},
   "source": [
    "In this example, the my_reward function takes in a row of the DataFrame and returns the reward based on test scores, study time and age for that row. We then apply this function to each row of the DataFrame using the apply method with axis=1, which specifies row-wise application.\n",
    "\n",
    "Just by using a DataFrame method we get much better results. Seems we need to learn to leverage what pandas offers to us first instead of diving into the problem head first, that is if we want our solution to scale properly (Hint: We usually do).\n",
    "\n",
    "We calculate our percentage difference the usual way."
   ]
  },
  {
   "cell_type": "code",
   "execution_count": 6,
   "metadata": {},
   "outputs": [
    {
     "data": {
      "text/markdown": [
       "92% faster. Let's go"
      ],
      "text/plain": [
       "<IPython.core.display.Markdown object>"
      ]
     },
     "execution_count": 6,
     "metadata": {},
     "output_type": "execute_result"
    }
   ],
   "source": [
    "before, after = mean(loop_time.timings), mean(apply_time.timings)\n",
    "result = abs((after / before) - 1)\n",
    "md(f\"{'{0:.0%}'.format(result)} faster. Let's go\")"
   ]
  },
  {
   "attachments": {},
   "cell_type": "markdown",
   "metadata": {},
   "source": [
    "## Vectorization\n",
    "\n",
    "Vectorization is a technique that allows performing operations on a whole array of data at once, without the need to iterate over each element. It uses NumPy arrays and functions, which are optimized for fast computation. This approach avoids the overhead of loops, and it's more efficient than using the ``apply`` method. It is also a more concise and readable way of expressing operations on arrays of data.\n",
    "\n",
    "Using vectorization is a powerful way to transform data in pandas. It is useful in cases where we want to apply the same function to all elements of a column or a subset of a column, and the function can be written in a vectorized form.\n",
    "\n",
    "Pandas has some vectorized methods which are:\n",
    "- groupby\n",
    "- filter\n",
    "- transform\n",
    "- Column arithmetic (+,-/*)\n",
    "- .str methods\n",
    "- pd.to_datetime()\n",
    "\n",
    "We use vectorization when:\n",
    "1. We want to avoid looping over the dataset\n",
    "2. We want to operate on an array simultaneously\n",
    "3. We can leverage numpy to push our operation into C level for-loops\n",
    "\n",
    "Just be aware that not all operations can be vectorized, and vectorized code may require more memory than loop-based code. It's important to be aware of the limitations and benefits of vectorization and to choose the appropriate technique for each situation.\n",
    "\n",
    "For our example we want to vectorize our logical statements. Another way of refering to this is boolean indexing. We will look at two main techniques.\n",
    "\n",
    "### df.loc\n",
    "\n",
    "In boolean indexing, we create a boolean mask that has the same shape as the DataFrame and use it to filter the data.\n",
    "\n",
    "With ``df.loc``, we can select rows based on a certain condition, and it returns a new DataFrame that contains only the rows that satisfy the condition"
   ]
  },
  {
   "cell_type": "code",
   "execution_count": 7,
   "metadata": {},
   "outputs": [
    {
     "name": "stdout",
     "output_type": "stream",
     "text": [
      "896 µs ± 6.33 µs per loop (mean ± std. dev. of 7 runs, 1,000 loops each)\n"
     ]
    }
   ],
   "source": [
    "def compute_with_loc():\n",
    "    df['reward'] = df['sad_food'] \n",
    "    df.loc[\n",
    "            (df['study_time'] >= 4) & (df['test_1_score'] >= 0.9) | \n",
    "            (df['test_1_score'] >= 0.65) & (df['age'] <= 13)\n",
    "            , 'reward'\n",
    "    ]  = df['happy_food']\n",
    "    \n",
    "loc_time = %timeit -o df['my_reward'] = compute_with_loc()"
   ]
  },
  {
   "attachments": {},
   "cell_type": "markdown",
   "metadata": {},
   "source": [
    "Now we are getting into nanosecond territory. Let's look at the second technique.\n",
    "\n",
    "### numpy.where()\n",
    "\n",
    "``numpy.where()`` is also a form of boolean indexing, but it is specifically used for creating new arrays or modifying existing ones based on a certain condition.\n",
    "\n",
    "One of the main advantages of ``numpy.where()`` is that it avoids the need for explicit looping and thus can be faster and more memory efficient than other methods that use explicit looping. It's syntax is also cleaner.\n",
    "\n",
    "``numpy.where()`` takes three arguments: a boolean condition, the value to be used for elements where the condition is true, and the value to be used for elements where the condition is false. It returns a new array where the elements that satisfy the condition are replaced with the first value, and the elements that do not satisfy the condition are replaced with the second value."
   ]
  },
  {
   "cell_type": "code",
   "execution_count": 8,
   "metadata": {},
   "outputs": [
    {
     "name": "stdout",
     "output_type": "stream",
     "text": [
      "650 µs ± 1.57 µs per loop (mean ± std. dev. of 7 runs, 1,000 loops each)\n"
     ]
    }
   ],
   "source": [
    "def compute_with_numpy_where():\n",
    "    df['reward'] = np.where(\n",
    "        (df['study_time'] >= 4) & (df['test_1_score'] >= 0.9) | (df['test_1_score'] >= 0.65) & (df['age'] <= 13), \n",
    "        df['happy_food'],\n",
    "        df['sad_food']\n",
    "    )\n",
    "\n",
    "numpy_where_time = %timeit -o df['my_reward'] = compute_with_numpy_where()"
   ]
  },
  {
   "cell_type": "code",
   "execution_count": 9,
   "metadata": {},
   "outputs": [
    {
     "data": {
      "text/markdown": [
       "That is a 27% performance increase by just using numpy!"
      ],
      "text/plain": [
       "<IPython.core.display.Markdown object>"
      ]
     },
     "execution_count": 9,
     "metadata": {},
     "output_type": "execute_result"
    }
   ],
   "source": [
    "before, after = mean(loc_time.timings), mean(numpy_where_time.timings)\n",
    "result = abs((after / before) - 1)\n",
    "md(f\"That is a {'{0:.0%}'.format(result)} performance increase by just using numpy!\")"
   ]
  },
  {
   "attachments": {},
   "cell_type": "markdown",
   "metadata": {},
   "source": [
    "### .values\n",
    "\n",
    "I'll show you one last trick. We will use the values method on each Series.\n",
    "\n",
    "When we combine ``numpy.where()`` with the ``.values`` method, we can quickly and efficiently replace values in a DataFrame based on a certain condition. The ``numpy.where()`` method returns an array with the same shape as the input condition, where the values are set to x where the condition is True, and y where the condition is False. When we combine this with the ``.values`` method, we can assign these values directly to the DataFrame column we want to modify."
   ]
  },
  {
   "cell_type": "code",
   "execution_count": 10,
   "metadata": {},
   "outputs": [
    {
     "name": "stdout",
     "output_type": "stream",
     "text": [
      "303 µs ± 2.1 µs per loop (mean ± std. dev. of 7 runs, 1,000 loops each)\n"
     ]
    }
   ],
   "source": [
    "def compute_with_numpy_where_values():\n",
    "    df['my_reward'] = np.where(\n",
    "        (df['study_time'].values >= 4) & (df['test_1_score'].values >= 0.9) | (df['test_1_score'].values >= 0.65) & (df['age'].values <= 13), \n",
    "        df['happy_food'].values,\n",
    "        df['sad_food'].values\n",
    "    )\n",
    "\n",
    "numpy_where_values_time = %timeit -o df['my_reward'] = compute_with_numpy_where_values()"
   ]
  },
  {
   "cell_type": "code",
   "execution_count": 11,
   "metadata": {},
   "outputs": [
    {
     "data": {
      "text/markdown": [
       "Boom! Another 53% increase!"
      ],
      "text/plain": [
       "<IPython.core.display.Markdown object>"
      ]
     },
     "execution_count": 11,
     "metadata": {},
     "output_type": "execute_result"
    }
   ],
   "source": [
    "before, after = mean(numpy_where_time.timings), mean(numpy_where_values_time.timings)\n",
    "result = abs((after / before) - 1)\n",
    "md(f\"Boom! Another {'{0:.0%}'.format(result)} increase!\")\n"
   ]
  },
  {
   "attachments": {},
   "cell_type": "markdown",
   "metadata": {},
   "source": [
    "By providing the values method we expose the underlying numpy array. Just the raw data, without indexes (No Series). \n",
    "\n",
    "## Results\n",
    "\n",
    "Let's apply some visualization into our progress so far so we can earn our right to call this an analytics exercise."
   ]
  },
  {
   "cell_type": "code",
   "execution_count": 12,
   "metadata": {},
   "outputs": [],
   "source": [
    "timings = pd.DataFrame(\n",
    "    { 'loop': loop_time.timings\n",
    "    , 'apply': apply_time.timings\n",
    "    , 'loc': loc_time.timings\n",
    "    , 'numpy_where': numpy_where_time.timings\n",
    "    , 'numpy_where_values': numpy_where_values_time.timings\n",
    "    }\n",
    ")"
   ]
  },
  {
   "cell_type": "code",
   "execution_count": 13,
   "metadata": {},
   "outputs": [
    {
     "data": {
      "text/plain": [
       "<Axes: title={'center': 'Performance improvement between techniques'}>"
      ]
     },
     "execution_count": 13,
     "metadata": {},
     "output_type": "execute_result"
    },
    {
     "data": {
      "image/png": "[encoded data removed]",
      "text/plain": [
       "<Figure size 640x480 with 1 Axes>"
      ]
     },
     "metadata": {},
     "output_type": "display_data"
    }
   ],
   "source": [
    "timings.pct_change(axis = 1).abs().mean().plot(kind = 'bar', title = 'Performance improvement between techniques')"
   ]
  },
  {
   "attachments": {},
   "cell_type": "markdown",
   "metadata": {},
   "source": [
    "So how fast are the vectorized functions? Well if we were to chart them we would have to use a logarithmic scale in order to appreciate it a little, since we are dealing with different magnitude levels (seconds to nanoseconds)."
   ]
  },
  {
   "cell_type": "code",
   "execution_count": 14,
   "metadata": {},
   "outputs": [
    {
     "data": {
      "image/png": "[encoded data removed]",
      "text/plain": [
       "<Figure size 800x500 with 1 Axes>"
      ]
     },
     "metadata": {},
     "output_type": "display_data"
    }
   ],
   "source": [
    "fig, ax = pyplot.subplots(1,1, figsize = (8,5), dpi = 100)\n",
    "ax.plot(timings.mean())\n",
    "ax.set_yscale('log')\n",
    "fig.tight_layout()\n",
    "pyplot.show()"
   ]
  },
  {
   "attachments": {},
   "cell_type": "markdown",
   "metadata": {},
   "source": [
    "## More Complex Conditionals\n",
    "\n",
    "Not bad! Now, even though this is useful our problems might not be this simple. I'd dare say a more real world example would be having to apply multiple where conditions to our datasets (if..elif..elif..else..).\n",
    "\n",
    "We would be tempted to dive right into multiple nesting using ``numpy.where()``. After all, there is something familiar about this, right? Where might have we seen this coding structure before...?\n",
    "\n",
    "The answer is **Excel**. The pain... The horror... Instead of moving forward and improving ourselves we went back to the old ways in an instant. Why not develop a smoking habit while we are at it?\n",
    "\n",
    "Let's say we want to classify our students based on test performance. We will classify them in 5 tiers. Failing, Barely Made It, Good, Excellent, Outstanding.\n",
    "\n",
    "Tier Logic:\n",
    "+ < 65: Failing\n",
    "+ '>= 65 and <= 75: Barely Made It\n",
    "+ '> 75 and <= 85: Good\n",
    "+ '> 85 and <= 95: Excellent\n",
    "+ '> 95: Outstanding\n",
    "\n",
    "We will start by creating a new column called final_score where we will calculate the average of the 3 test scores. Note how we will leverage our new skills by using the ``.values`` method and combine it with the ``numpy.mean()`` vectorized function."
   ]
  },
  {
   "cell_type": "code",
   "execution_count": 15,
   "metadata": {},
   "outputs": [],
   "source": [
    "df['final_score'] = df[['test_1_score', 'test_2_score', 'test_3_score']].values.mean(axis = 1)"
   ]
  },
  {
   "cell_type": "code",
   "execution_count": 16,
   "metadata": {},
   "outputs": [
    {
     "name": "stdout",
     "output_type": "stream",
     "text": [
      "1.42 ms ± 30.7 µs per loop (mean ± std. dev. of 7 runs, 1,000 loops each)\n"
     ]
    }
   ],
   "source": [
    "%%timeit\n",
    "df['tier'] = \\\n",
    "    np.where(df['final_score'].values < 0.65, 'Failing',\n",
    "    np.where((df['final_score'].values >= 0.65) & (df['final_score'].values <= 0.75), 'Barely Made It',\n",
    "    np.where((df['final_score'].values > 0.75) & (df['final_score'].values <= 0.85), 'Good',\n",
    "    np.where((df['final_score'].values > 0.85) & (df['final_score'].values <= 0.95), 'Excellent',\n",
    "    'Outstanding'\n",
    "))))"
   ]
  },
  {
   "attachments": {},
   "cell_type": "markdown",
   "metadata": {},
   "source": [
    "Yeah no, thanks. Even with my awesome formatting skills it feels bad, man. Add more complex logic and witness a new nightmare shape its form into your codebase. Quality Assurance will cry. Your peers will resent your presence. Your boss will begin talking about your bright future in the accounting department. Your girlfriend's boyfriend will want to meet your parents and hang out with you more frequently. All because you dared to shatter Guido's dream of a future where people learned to use python as intended. \n",
    "\n",
    "/rant\n",
    "\n",
    "### numpy.select\n",
    "\n",
    "Enter ``numpy.select()``, a more elegant solution when dealing with multiple conditionals.\n",
    "\n",
    "``numpy.select()`` takes in a list of conditions and a list of values to be selected based on the conditions. It can handle multiple conditions and is more concise than multiple nested ``np.where()`` statements."
   ]
  },
  {
   "cell_type": "code",
   "execution_count": 17,
   "metadata": {},
   "outputs": [],
   "source": [
    "conditions = [\n",
    "    df['final_score'].values < 0.65, \n",
    "    (df['final_score'].values >= 0.65) & (df['final_score'].values <= 0.75),\n",
    "    (df['final_score'].values > 0.75) & (df['final_score'].values <= 0.85),\n",
    "    (df['final_score'].values > 0.85) & (df['final_score'].values <= 0.95),\n",
    "]\n",
    "\n",
    "choices = [\n",
    "    'Failing',\n",
    "    'Barely Made It',\n",
    "    'Good',\n",
    "    'Excellent',\n",
    "]"
   ]
  },
  {
   "cell_type": "code",
   "execution_count": 18,
   "metadata": {},
   "outputs": [
    {
     "name": "stdout",
     "output_type": "stream",
     "text": [
      "1.12 ms ± 5.51 µs per loop (mean ± std. dev. of 7 runs, 1,000 loops each)\n"
     ]
    }
   ],
   "source": [
    "%%timeit\n",
    "df['tier'] = np.select(conditions, choices, default='Outstanding')"
   ]
  },
  {
   "attachments": {},
   "cell_type": "markdown",
   "metadata": {},
   "source": [
    "Oooof. Crisis adverted. And hey, it's faster too!\n",
    "\n",
    "## Concluding Thoughts\n",
    "\n",
    "After analyzing the different methods for manipulating data in Pandas, we have seen that there are multiple ways to achieve the same results. However, not all methods are created equal in terms of efficiency. We have learned that using for loops and the apply method can be very inefficient, especially when working with large datasets. On the other hand, boolean indexing with df.loc and vectorization methods like numpy.where() and numpy.select() can be much faster and more efficient.\n",
    "\n",
    "It's important to keep in mind that the choice of method depends on the specific problem and the size of the dataset. For smaller datasets, less efficient methods may be acceptable, but for larger datasets, it's essential to use more efficient techniques to avoid long processing times.\n",
    "\n",
    "You now feel ready to refactor all your codebase and start vectorizing your functions. Cannon to right of them, Cannon to left of them, Cannon in front of them, Volleyed and thundered! But, alas, all your hopes and dreams got shut down before you could fly because your dataset is too big and froze your laptop. \n",
    "\n",
    "Go to [Lesson 2 - Parsing](2-parsing.ipynb)"
   ]
  }
 ],
 "metadata": {
  "kernelspec": {
   "display_name": "venv",
   "language": "python",
   "name": "python3"
  },
  "language_info": {
   "codemirror_mode": {
    "name": "ipython",
    "version": 3
   },
   "file_extension": ".py",
   "mimetype": "text/x-python",
   "name": "python",
   "nbconvert_exporter": "python",
   "pygments_lexer": "ipython3",
   "version": "3.11.1"
  },
  "orig_nbformat": 4,
  "vscode": {
   "interpreter": {
    "hash": "1d732ae5492d83632ed3824ca97dd3702300df556ed6848d417127f3581d5ee1"
   }
  }
 },
 "nbformat": 4,
 "nbformat_minor": 2
}
