{
 "cells": [
  {
   "attachments": {},
   "cell_type": "markdown",
   "metadata": {},
   "source": [
    "# Fasting Pandas - A guide into optimizing your analytical processing \n",
    "\n",
    "### Part 1\n",
    "\n",
    "---\n",
    "\n",
    "The following notebooks aim to display how we can manipulate data and dataframes more effectively. Their purpose is to serve as a guideline in how we can approach a problem different ways, and how we can measure the impact it has on the machine resources.\n",
    "\n",
    "We should understand that in some ocassions suboptimal code will not cost us only time, but money aswell.\n",
    "\n",
    "Here we go."
   ]
  },
  {
   "cell_type": "code",
   "execution_count": 1,
   "metadata": {},
   "outputs": [
    {
     "data": {
      "text/plain": [
       "<module 'fasting_pandas.datasets' from 'd:\\\\Proyectos\\\\datakai\\\\projects\\\\github\\\\datakaicr\\\\public\\\\fasting-pandas\\\\fasting_pandas\\\\datasets.py'>"
      ]
     },
     "execution_count": 1,
     "metadata": {},
     "output_type": "execute_result"
    }
   ],
   "source": [
    "import pandas as pd\n",
    "import numpy as np\n",
    "from fasting_pandas import datasets as ds\n",
    "from statistics import mean\n",
    "from matplotlib import pyplot"
   ]
  },
  {
   "attachments": {},
   "cell_type": "markdown",
   "metadata": {},
   "source": [
    "### Datasets\n",
    "In order to minimize the size of the repo we will be generating the dataframes ourselves. You can take a look at them in the datasets module. All dataframes default to a size of 10,000 rows but you can change it if you wish.\n",
    "\n",
    "We will start by generating a score dataframe."
   ]
  },
  {
   "cell_type": "code",
   "execution_count": 2,
   "metadata": {},
   "outputs": [
    {
     "data": {
      "text/plain": [
       "10000"
      ]
     },
     "execution_count": 2,
     "metadata": {},
     "output_type": "execute_result"
    }
   ],
   "source": [
    "df = ds.generate_scores()\n",
    "df.shape[0]"
   ]
  },
  {
   "attachments": {},
   "cell_type": "markdown",
   "metadata": {},
   "source": [
    "### The Problem\n",
    "For our first example we will work with data from a group of high school students between ages of 12 and 19 and their average daily time spent studying for their tests. We have the scores for 3 tests, and want to reward them with happy food if they did well.\n",
    "\n",
    "Obviously, this is random data so don't expect too much coherence. For our purposes we don't care about this.\n",
    "\n",
    "Let's start simple.\n",
    "\n",
    "Reward calculation:\n",
    "- If they studied for more than 3 hours a day and scored higher than 90 on test 1 they get happy food\n",
    "- If they failed test 1 they get sad food\n",
    "- If they passsed the first test (higher or equal to 65) and are in the age group between 12 and 13 they get happy food\n",
    "- Everyone else gets sad food :(\n",
    "\n",
    "So we want to define a function that uses conditional logic in order to determine who gets a positive or negative reward. One of the usual approaches is to define a function that takes care of that logic, and then check if the condition is met for every row.\n"
   ]
  },
  {
   "cell_type": "code",
   "execution_count": 3,
   "metadata": {},
   "outputs": [
    {
     "data": {
      "text/html": [
       "<div>\n",
       "<style scoped>\n",
       "    .dataframe tbody tr th:only-of-type {\n",
       "        vertical-align: middle;\n",
       "    }\n",
       "\n",
       "    .dataframe tbody tr th {\n",
       "        vertical-align: top;\n",
       "    }\n",
       "\n",
       "    .dataframe thead th {\n",
       "        text-align: right;\n",
       "    }\n",
       "</style>\n",
       "<table border=\"1\" class=\"dataframe\">\n",
       "  <thead>\n",
       "    <tr style=\"text-align: right;\">\n",
       "      <th></th>\n",
       "      <th>age</th>\n",
       "      <th>study_time</th>\n",
       "      <th>test_1_score</th>\n",
       "      <th>test_2_score</th>\n",
       "      <th>test_3_score</th>\n",
       "      <th>happy_food</th>\n",
       "      <th>sad_food</th>\n",
       "    </tr>\n",
       "  </thead>\n",
       "  <tbody>\n",
       "    <tr>\n",
       "      <th>0</th>\n",
       "      <td>14</td>\n",
       "      <td>10</td>\n",
       "      <td>0.346058</td>\n",
       "      <td>0.746685</td>\n",
       "      <td>0.337483</td>\n",
       "      <td>fried-chicken</td>\n",
       "      <td>broccoli</td>\n",
       "    </tr>\n",
       "    <tr>\n",
       "      <th>1</th>\n",
       "      <td>14</td>\n",
       "      <td>8</td>\n",
       "      <td>0.964345</td>\n",
       "      <td>0.614264</td>\n",
       "      <td>0.683549</td>\n",
       "      <td>pizza</td>\n",
       "      <td>soup</td>\n",
       "    </tr>\n",
       "    <tr>\n",
       "      <th>2</th>\n",
       "      <td>17</td>\n",
       "      <td>6</td>\n",
       "      <td>0.452403</td>\n",
       "      <td>0.942057</td>\n",
       "      <td>0.598630</td>\n",
       "      <td>hamburguer</td>\n",
       "      <td>beans</td>\n",
       "    </tr>\n",
       "    <tr>\n",
       "      <th>3</th>\n",
       "      <td>18</td>\n",
       "      <td>5</td>\n",
       "      <td>0.914480</td>\n",
       "      <td>0.183955</td>\n",
       "      <td>0.921535</td>\n",
       "      <td>grilled-meat</td>\n",
       "      <td>broccoli</td>\n",
       "    </tr>\n",
       "    <tr>\n",
       "      <th>4</th>\n",
       "      <td>12</td>\n",
       "      <td>9</td>\n",
       "      <td>0.039367</td>\n",
       "      <td>0.235512</td>\n",
       "      <td>0.455845</td>\n",
       "      <td>nachos</td>\n",
       "      <td>beef-liver</td>\n",
       "    </tr>\n",
       "  </tbody>\n",
       "</table>\n",
       "</div>"
      ],
      "text/plain": [
       "   age  study_time  test_1_score  test_2_score  test_3_score     happy_food  \\\n",
       "0   14          10      0.346058      0.746685      0.337483  fried-chicken   \n",
       "1   14           8      0.964345      0.614264      0.683549          pizza   \n",
       "2   17           6      0.452403      0.942057      0.598630     hamburguer   \n",
       "3   18           5      0.914480      0.183955      0.921535   grilled-meat   \n",
       "4   12           9      0.039367      0.235512      0.455845         nachos   \n",
       "\n",
       "     sad_food  \n",
       "0    broccoli  \n",
       "1        soup  \n",
       "2       beans  \n",
       "3    broccoli  \n",
       "4  beef-liver  "
      ]
     },
     "execution_count": 3,
     "metadata": {},
     "output_type": "execute_result"
    }
   ],
   "source": [
    "df.head()"
   ]
  },
  {
   "cell_type": "code",
   "execution_count": 4,
   "metadata": {},
   "outputs": [],
   "source": [
    "def my_reward(row):\n",
    "    if (row['study_time'] >= 4) & (row['test_1_score'] >= 0.9):\n",
    "        return row['happy_food']\n",
    "    elif (row['test_1_score'] >= 0.65) & (row['age'] <= 13):\n",
    "        return row['happy_food']\n",
    "    return row['sad_food']"
   ]
  },
  {
   "attachments": {},
   "cell_type": "markdown",
   "metadata": {},
   "source": [
    "### Using For-Loops\n",
    "\n",
    "Lets see what happens when we iterate through each row of the dataframe.\n",
    "\n",
    "We can measure our results in several ways. One would be to create a wrapper function that measures time and use it for each of the functions we will be applying. You can find this function in the helper module. However for simplicity purposes we will use the %timeit magic method and save the results in a function that we can later access to calculate the mean() and store the results for later usage. "
   ]
  },
  {
   "cell_type": "code",
   "execution_count": 5,
   "metadata": {},
   "outputs": [
    {
     "name": "stdout",
     "output_type": "stream",
     "text": [
      "1.21 s ± 37 ms per loop (mean ± std. dev. of 7 runs, 1 loop each)\n"
     ]
    }
   ],
   "source": [
    "test1_time = %timeit -o for index, row in df.iterrows(): \\\n",
    "        df.loc[index, 'reward'] = my_reward(row)"
   ]
  },
  {
   "attachments": {},
   "cell_type": "markdown",
   "metadata": {},
   "source": [
    "So more than a second to calculate two main conditions and a default on a couple of colums for only 10,000 rows. \n",
    "\n",
    "Yep, this is bad. Moving on."
   ]
  },
  {
   "attachments": {},
   "cell_type": "markdown",
   "metadata": {},
   "source": [
    "## Apply\n",
    "\n",
    "If you have used pandas for more than a day, you have probably learned about the apply method. We can use this method by proving our function and doing the calculation directly on each column. Dataframes are much faster when used this way.\n",
    "\n",
    "Let's see how fast."
   ]
  },
  {
   "cell_type": "code",
   "execution_count": 6,
   "metadata": {},
   "outputs": [
    {
     "name": "stdout",
     "output_type": "stream",
     "text": [
      "92.7 ms ± 1.27 ms per loop (mean ± std. dev. of 7 runs, 10 loops each)\n"
     ]
    }
   ],
   "source": [
    "test2_time = %timeit -o df['reward'] = df.apply(my_reward, axis = 1)"
   ]
  },
  {
   "attachments": {},
   "cell_type": "markdown",
   "metadata": {},
   "source": [
    "Just by using a DataFrame method we get much better results. Seems we need to learn to leverage what pandas offers to us first instead of diving into the problem head first, that is if we want our solution to scale properly (Hint: We usually do).\n",
    "\n",
    "We calculate our percentage difference the usual way."
   ]
  },
  {
   "cell_type": "code",
   "execution_count": 7,
   "metadata": {},
   "outputs": [
    {
     "data": {
      "text/plain": [
       "0.9233299571285543"
      ]
     },
     "execution_count": 7,
     "metadata": {},
     "output_type": "execute_result"
    }
   ],
   "source": [
    "abs((mean(test2_time.timings) / mean(test1_time.timings)) - 1)"
   ]
  },
  {
   "attachments": {},
   "cell_type": "markdown",
   "metadata": {},
   "source": [
    "90%. Let's go."
   ]
  },
  {
   "attachments": {},
   "cell_type": "markdown",
   "metadata": {},
   "source": [
    "## Vectorization\n",
    "\n",
    "If you don't know what vectorization is, then google is your friend. On summary, when using vectors we don't care about the order of operations. This means we can apply our function on multiple arrays all at once.\n",
    "\n",
    "Pandas has some vectorized methods which are:\n",
    "- groupby\n",
    "- filter\n",
    "- transform\n",
    "- Column arithmetic (+,-/*)\n",
    "- .str methods\n",
    "- pd.to_datetime()\n",
    "\n",
    "We use vectorization when:\n",
    "1. We want to avoid looping over the dataset\n",
    "2. We want to operate on an array simultaneously\n",
    "3. We can leverage numpy to push our operation into C level for-loops\n",
    "\n",
    "So for our example we want to vectorize our logical statements. How do we do this?\n",
    "\n",
    "Well, two ways. We can either filter our dataframe with loc and apply the conditionals, or use...\n",
    "\n",
    "numpy.where()\n",
    "\n",
    "Numpy is your friend. We can use numpy to vectorize our if / else statements to get faster results. It's also cleaner.\n",
    "\n",
    "I'll show you both."
   ]
  },
  {
   "cell_type": "code",
   "execution_count": 8,
   "metadata": {},
   "outputs": [],
   "source": [
    "def test3():\n",
    "    df['reward'] = df['sad_food'] \n",
    "    df.loc[\n",
    "            (df['study_time'] >= 4) & (df['test_1_score'] >= 0.9) | \n",
    "            (df['test_1_score'] >= 0.65) & (df['age'] <= 13)\n",
    "            , 'reward'\n",
    "    ]  = df['happy_food']"
   ]
  },
  {
   "cell_type": "code",
   "execution_count": 9,
   "metadata": {},
   "outputs": [
    {
     "name": "stdout",
     "output_type": "stream",
     "text": [
      "937 µs ± 7.54 µs per loop (mean ± std. dev. of 7 runs, 1,000 loops each)\n"
     ]
    }
   ],
   "source": [
    "test3_time = %timeit -o df['reward'] = test3()"
   ]
  },
  {
   "attachments": {},
   "cell_type": "markdown",
   "metadata": {},
   "source": [
    "Now we are getting into nanosecond territory. Let's look at numpy"
   ]
  },
  {
   "cell_type": "code",
   "execution_count": 10,
   "metadata": {},
   "outputs": [],
   "source": [
    "def test4():\n",
    "    df['reward'] = np.where(\n",
    "        (df['study_time'] >= 4) & (df['test_1_score'] >= 0.9) | (df['test_1_score'] >= 0.65) & (df['age'] <= 13), \n",
    "        df['happy_food'],\n",
    "        df['sad_food']\n",
    "    )"
   ]
  },
  {
   "cell_type": "code",
   "execution_count": 11,
   "metadata": {},
   "outputs": [
    {
     "name": "stdout",
     "output_type": "stream",
     "text": [
      "677 µs ± 7.95 µs per loop (mean ± std. dev. of 7 runs, 1,000 loops each)\n"
     ]
    }
   ],
   "source": [
    "test4_time = %timeit -o df['reward'] = test4()"
   ]
  },
  {
   "cell_type": "code",
   "execution_count": 12,
   "metadata": {},
   "outputs": [
    {
     "data": {
      "text/plain": [
       "0.2767269690817511"
      ]
     },
     "execution_count": 12,
     "metadata": {},
     "output_type": "execute_result"
    }
   ],
   "source": [
    "abs((mean(test4_time.timings) / mean(test3_time.timings)) - 1)"
   ]
  },
  {
   "attachments": {},
   "cell_type": "markdown",
   "metadata": {},
   "source": [
    "That is a 30% performance increase by just using numpy!  \n",
    "\n",
    "I'll show you one last trick. We will use the values method on each Series."
   ]
  },
  {
   "cell_type": "code",
   "execution_count": 13,
   "metadata": {},
   "outputs": [],
   "source": [
    "def test5():\n",
    "    df['reward'] = np.where(\n",
    "        (df['study_time'].values >= 4) & (df['test_1_score'].values >= 0.9) | (df['test_1_score'].values >= 0.65) & (df['age'].values <= 13), \n",
    "        df['happy_food'].values,\n",
    "        df['sad_food'].values\n",
    "    )"
   ]
  },
  {
   "cell_type": "code",
   "execution_count": 14,
   "metadata": {},
   "outputs": [
    {
     "name": "stdout",
     "output_type": "stream",
     "text": [
      "316 µs ± 3.61 µs per loop (mean ± std. dev. of 7 runs, 1,000 loops each)\n"
     ]
    }
   ],
   "source": [
    "test5_time = %timeit -o df['reward'] = test5()"
   ]
  },
  {
   "attachments": {},
   "cell_type": "markdown",
   "metadata": {},
   "source": [
    "Boom! Another 50% performance increase!\n",
    "\n",
    "By providing the values method we expose the underlying numpy array. Just the raw data, without indexes (No Series). \n",
    "\n",
    "Let's apply some visualization into our progress so far so we can earn our right to call this an analytics exercise."
   ]
  },
  {
   "cell_type": "code",
   "execution_count": 15,
   "metadata": {},
   "outputs": [],
   "source": [
    "timings = pd.DataFrame(\n",
    "    { 'loop': test1_time.timings\n",
    "    , 'apply': test2_time.timings\n",
    "    , 'loc': test3_time.timings\n",
    "    , 'numpy': test4_time.timings\n",
    "    , 'numpy_with_values': test5_time.timings\n",
    "    }\n",
    ")"
   ]
  },
  {
   "attachments": {},
   "cell_type": "markdown",
   "metadata": {},
   "source": [
    "Let's look at performance improvement between techniques first. We will use absolute values to avoid negatives. Note that if we were to compare with only the for loop the vectorized examples would be around 99.999% faster)\n",
    "\n",
    "But don't take my word for it"
   ]
  },
  {
   "cell_type": "code",
   "execution_count": 16,
   "metadata": {},
   "outputs": [
    {
     "data": {
      "text/plain": [
       "loop                 0.000000\n",
       "apply               -0.923251\n",
       "loc                 -0.999225\n",
       "numpy               -0.999439\n",
       "numpy_with_values   -0.999738\n",
       "dtype: float64"
      ]
     },
     "execution_count": 16,
     "metadata": {},
     "output_type": "execute_result"
    }
   ],
   "source": [
    "(timings.divide(timings.loop, axis = 'index') - 1).mean()"
   ]
  },
  {
   "cell_type": "code",
   "execution_count": 17,
   "metadata": {},
   "outputs": [
    {
     "data": {
      "text/plain": [
       "<Axes: title={'center': 'Performance improvement between techniques'}>"
      ]
     },
     "execution_count": 17,
     "metadata": {},
     "output_type": "execute_result"
    },
    {
     "data": {
      "image/png": "[encoded data removed]",
      "text/plain": [
       "<Figure size 640x480 with 1 Axes>"
      ]
     },
     "metadata": {},
     "output_type": "display_data"
    }
   ],
   "source": [
    "timings.pct_change(axis = 1).abs().mean().plot(kind = 'bar', title = 'Performance improvement between techniques')"
   ]
  },
  {
   "attachments": {},
   "cell_type": "markdown",
   "metadata": {},
   "source": [
    "So how fast are the vectorized functions? Well if we were to chart them we would have to use a logarithmic scale in order to appreciate it a little, since we are dealing with different magnitude levels (seconds to nanoseconds)."
   ]
  },
  {
   "cell_type": "code",
   "execution_count": 18,
   "metadata": {},
   "outputs": [
    {
     "data": {
      "image/png": "[encoded data removed]",
      "text/plain": [
       "<Figure size 800x500 with 1 Axes>"
      ]
     },
     "metadata": {},
     "output_type": "display_data"
    }
   ],
   "source": [
    "fig, ax = pyplot.subplots(1,1, figsize = (8,5), dpi = 100)\n",
    "ax.plot(timings.mean())\n",
    "ax.set_yscale('log')\n",
    "fig.tight_layout()\n",
    "pyplot.show()"
   ]
  },
  {
   "attachments": {},
   "cell_type": "markdown",
   "metadata": {},
   "source": [
    "Not bad! Now, even though this is useful intel our problems might not be this simple. I'd dare say a more real example would be having to apply multiple where conditions to our datasets (if..elif..elif..else..).\n",
    "\n",
    "So our monkey brains would be tempted to dive right it into multiple nesting using numpy.where(). After all, there is something familiar about this, right? Where might have we seen this structure before...?\n",
    "\n",
    "Yes, the answer is Excel. The pain... The atrocities... Instead of moving forward and improving ourselves we went back to the old ways in an instant. Why not develop a smoking habit while we are at it?\n",
    "\n",
    "Look.\n",
    "\n",
    "Let's say we want to classify our students based on test performance. We will classify them in 5 tiers. Failing, Barely Made It, Good, Excellent, Outstanding.\n",
    "\n",
    "Tier Logic:\n",
    "- > < 65: Failing\n",
    "- >'>= 65 and <= 75: Barely Made It\n",
    "- >'> 75 and <= 85: Good\n",
    "- >'> 85 and <= 95: Excellent\n",
    "- >'> 95: Outstanding"
   ]
  },
  {
   "cell_type": "code",
   "execution_count": 19,
   "metadata": {},
   "outputs": [],
   "source": [
    "df['final_score'] = df[['test_1_score', 'test_2_score', 'test_3_score']].mean(axis = 1)"
   ]
  },
  {
   "cell_type": "code",
   "execution_count": 20,
   "metadata": {},
   "outputs": [
    {
     "name": "stdout",
     "output_type": "stream",
     "text": [
      "1.44 ms ± 6.37 µs per loop (mean ± std. dev. of 7 runs, 1,000 loops each)\n"
     ]
    }
   ],
   "source": [
    "%%timeit\n",
    "df['tier'] = \\\n",
    "    np.where(df['final_score'].values < 0.65, 'Failing',\n",
    "    np.where((df['final_score'].values >= 0.65) & (df['final_score'].values <= 0.75), 'Barely Made It',\n",
    "    np.where((df['final_score'].values > 0.75) & (df['final_score'].values <= 0.85), 'Good',\n",
    "    np.where((df['final_score'].values > 0.85) & (df['final_score'].values <= 0.95), 'Excellent',\n",
    "    'Outstanding'\n",
    "))))"
   ]
  },
  {
   "attachments": {},
   "cell_type": "markdown",
   "metadata": {},
   "source": [
    "Yeah no, thanks. Even with my awesome formatting skills it feels bad, man. Add more complex logic and witness a new nightmare shape its form into your codebase. Quality Assurance will cry. Your peers will resent your presence. Your boss will begin talking about your bright future in the accounting department. Your girlfriend's boyfriend will want to meet your parents and hang out with you more frequently. All because you dared to shatter Guido's dream of a future where people learned to use python as intended. Now we all have to stay miserable because you didn't take a moment to learn about numpy.select() "
   ]
  },
  {
   "cell_type": "code",
   "execution_count": 21,
   "metadata": {},
   "outputs": [],
   "source": [
    "conditions = [\n",
    "    df['final_score'].values < 0.65, \n",
    "    (df['final_score'].values >= 0.65) & (df['final_score'].values <= 0.75),\n",
    "    (df['final_score'].values > 0.75) & (df['final_score'].values <= 0.85),\n",
    "    (df['final_score'].values > 0.85) & (df['final_score'].values <= 0.95),\n",
    "]"
   ]
  },
  {
   "cell_type": "code",
   "execution_count": 22,
   "metadata": {},
   "outputs": [],
   "source": [
    "choices = [\n",
    "    'Failing',\n",
    "    'Barely Made It',\n",
    "    'Good',\n",
    "    'Excellent',\n",
    "]"
   ]
  },
  {
   "cell_type": "code",
   "execution_count": 23,
   "metadata": {},
   "outputs": [
    {
     "name": "stdout",
     "output_type": "stream",
     "text": [
      "1.14 ms ± 20.5 µs per loop (mean ± std. dev. of 7 runs, 1,000 loops each)\n"
     ]
    }
   ],
   "source": [
    "%%timeit\n",
    "df['tier'] = np.select(conditions, choices, default='Outstanding')"
   ]
  },
  {
   "attachments": {},
   "cell_type": "markdown",
   "metadata": {},
   "source": [
    "Oooof. Crisis adverted. \n",
    "\n",
    "And hey, it's faster too!\n",
    "\n",
    "You instantly feel much wiser. Your imagination is blown and you are going into places you dared dream before. Now, packed with this knowledge you are ready to face the world. You are ready to refactor all your codebase and start vectorizing your functions. Cannon to right of them, Cannon to left of them, Cannon in front of them, Volleyed and thundered! But, alas, all your hopes and fantasies about blowing people's heads got shut down in an instant because your dataset is too big and froze your laptop. \n",
    "\n",
    "Go to lesson 2."
   ]
  }
 ],
 "metadata": {
  "kernelspec": {
   "display_name": "venv",
   "language": "python",
   "name": "python3"
  },
  "language_info": {
   "codemirror_mode": {
    "name": "ipython",
    "version": 3
   },
   "file_extension": ".py",
   "mimetype": "text/x-python",
   "name": "python",
   "nbconvert_exporter": "python",
   "pygments_lexer": "ipython3",
   "version": "3.11.1"
  },
  "orig_nbformat": 4,
  "vscode": {
   "interpreter": {
    "hash": "1d732ae5492d83632ed3824ca97dd3702300df556ed6848d417127f3581d5ee1"
   }
  }
 },
 "nbformat": 4,
 "nbformat_minor": 2
}
